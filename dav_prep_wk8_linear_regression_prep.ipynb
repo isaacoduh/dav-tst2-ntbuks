{
  "nbformat": 4,
  "nbformat_minor": 0,
  "metadata": {
    "colab": {
      "provenance": []
    },
    "kernelspec": {
      "name": "python3",
      "display_name": "Python 3"
    },
    "language_info": {
      "name": "python"
    }
  },
  "cells": [
    {
      "cell_type": "code",
      "source": [
        "# linear regression for a set of x array and given equation y\n",
        "import numpy as np\n",
        "from sklearn.linear_model import LinearRegression\n",
        "\n",
        "X = np.array([[1,1],[1,2],[2,2],[2,3]])\n",
        "# y = 5*x_0 + 6 * x_1 + 3\n",
        "# x_0 is the first element in each pair;\n",
        "# x_1 is the second element\n",
        "# np.dot() is the product of two arrays\n",
        "# 5 and 6 are the coefficients for the equation y\n",
        "\n",
        "y = np.dot(X, np.array([3,7])) + 3\n",
        "reg = LinearRegression().fit(X,y)\n",
        "print(reg.score(X,y))\n",
        "print(\"\\n\")\n",
        "\n",
        "# estimate cofficients for the linear regression problems\n",
        "# first cofficient is for x_0 and second is for x_1\n",
        "\n",
        "print(reg.coef_)\n",
        "print(\"\\n\")\n",
        "\n",
        "# intercept of the linear regression problem\n",
        "print(reg.intercept_)\n",
        "print(\"\\n\")\n",
        "\n",
        "# prdict the y value for [3,5] - x_0 is 3, x_1 is 5\n",
        "print(reg.predict(np.array([[3,5]])))\n",
        "print(\"\\n\")\n",
        "\n"
      ],
      "metadata": {
        "colab": {
          "base_uri": "https://localhost:8080/"
        },
        "id": "H5JHj5Xsq5PP",
        "outputId": "df612290-3ac6-4867-cabd-85c8ed28d1ba"
      },
      "execution_count": null,
      "outputs": [
        {
          "output_type": "stream",
          "name": "stdout",
          "text": [
            "1.0\n",
            "\n",
            "\n",
            "[3. 7.]\n",
            "\n",
            "\n",
            "3.0000000000000036\n",
            "\n",
            "\n",
            "[47.]\n",
            "\n",
            "\n"
          ]
        }
      ]
    },
    {
      "cell_type": "code",
      "source": [
        "import matplotlib.pyplot as plt\n",
        "import numpy as np\n",
        "import pandas as pd\n",
        "from sklearn import datasets, linear_model\n",
        "from sklearn.linear_model import LinearRegression\n",
        "from sklearn.model_selection import train_test_split\n",
        "from sklearn.metrics import mean_squared_error, r2_score\n",
        "\n",
        "# load dataset and remove white spaces\n",
        "dataset = pd.read_csv('diabetes.txt', delimiter=\"\\s+\")\n",
        "print(dataset.head())\n",
        "print(\"\\n\")\n",
        "\n",
        "# goal is to plot a 2-D linear regresion plot for dataset in diabetes.txt. Only using the first feature.\n",
        "# the linear regression plot will showcase the best minimal residual sum of squares\n",
        "\n",
        "# use only1 feature - Age to predict the target y\n",
        "diabetes_x = dataset[['BMI']]\n",
        "diabetes_y = dataset[['Y']]\n",
        "\n",
        "# the scatter plot evidence that seemingly there is a trend\n",
        "plt.scatter(diabetes_x, diabetes_y)\n",
        "\n",
        "# split into training and test sets (80:20)\n",
        "x_train, x_test, y_train, y_test = train_test_split(diabetes_x, diabetes_y, test_size=0.2)\n",
        "print(x_train)\n",
        "print(\"\\n\")\n",
        "print(y_train)\n",
        "print(\"\\n\")\n",
        "print(x_test)\n",
        "\n",
        "\n",
        "# create a linear regression object\n",
        "regr = LinearRegression()\n",
        "\n",
        "# train the model using the training sets and reshape 1D arrays\n",
        "regr.fit(x_train, y_train)\n",
        "\n",
        "# make predictions using testing set\n",
        "y_pred = regr.predict(x_test)\n",
        "y_pred2 = regr.predict([[60]])\n",
        "print(\"\\n\")\n",
        "print(\"The predicted Y value for BMI = 60 is: \",  y_pred2)\n",
        "\n",
        "# the coefficients\n",
        "print('Coefficients: \\n', regr.coef_)\n",
        "print(\"\\n\")\n",
        "\n",
        "# the mean squared error\n",
        "print('Mean squared error: ', mean_squared_error(y_test, y_pred))\n",
        "\n",
        "# the coefficient of determination: 1 is perfect prediction\n",
        "print('Coefficient of determination: ', r2_score(y_test, y_pred))\n",
        "\n",
        "# plot outputs\n",
        "plt.scatter(x_test, y_test, color='black')\n",
        "plt.plot(x_test, y_pred, color='blue',linewidth=3)\n",
        "\n",
        "plt.xticks(())\n",
        "plt.yticks(())\n",
        "\n",
        "plt.show()"
      ],
      "metadata": {
        "colab": {
          "base_uri": "https://localhost:8080/",
          "height": 1000
        },
        "id": "VoPLSfE3uUWs",
        "outputId": "b32efd9b-91f8-4ac6-a0dd-4eeae90a44f9"
      },
      "execution_count": null,
      "outputs": [
        {
          "output_type": "stream",
          "name": "stdout",
          "text": [
            "   AGE  SEX   BMI     BP   S1     S2    S3   S4      S5  S6    Y\n",
            "0   59    2  32.1  101.0  157   93.2  38.0  4.0  4.8598  87  151\n",
            "1   48    1  21.6   87.0  183  103.2  70.0  3.0  3.8918  69   75\n",
            "2   72    2  30.5   93.0  156   93.6  41.0  4.0  4.6728  85  141\n",
            "3   24    1  25.3   84.0  198  131.4  40.0  5.0  4.8903  89  206\n",
            "4   50    1  23.0  101.0  192  125.4  52.0  4.0  4.2905  80  135\n",
            "\n",
            "\n",
            "      BMI\n",
            "16   30.3\n",
            "408  21.7\n",
            "166  20.8\n",
            "418  24.1\n",
            "176  28.2\n",
            "..    ...\n",
            "44   32.7\n",
            "423  22.7\n",
            "92   26.8\n",
            "121  28.0\n",
            "311  30.1\n",
            "\n",
            "[353 rows x 1 columns]\n",
            "\n",
            "\n",
            "       Y\n",
            "16   166\n",
            "408  189\n",
            "166   70\n",
            "418   84\n",
            "176  237\n",
            "..   ...\n",
            "44   259\n",
            "423   91\n",
            "92    48\n",
            "121  173\n",
            "311  180\n",
            "\n",
            "[353 rows x 1 columns]\n",
            "\n",
            "\n",
            "      BMI\n",
            "356  23.3\n",
            "13   26.2\n",
            "99   20.4\n",
            "347  23.6\n",
            "156  25.4\n",
            "..    ...\n",
            "223  24.2\n",
            "309  26.5\n",
            "257  21.2\n",
            "110  23.4\n",
            "53   24.9\n",
            "\n",
            "[89 rows x 1 columns]\n",
            "\n",
            "\n",
            "The predicted Y value for BMI = 60 is:  [[494.65030082]]\n",
            "Coefficients: \n",
            " [[10.05784473]]\n",
            "\n",
            "\n",
            "Mean squared error:  3689.648328821791\n",
            "Coefficient of determination:  0.2279765465694613\n"
          ]
        },
        {
          "output_type": "stream",
          "name": "stderr",
          "text": [
            "/usr/local/lib/python3.10/dist-packages/sklearn/base.py:439: UserWarning: X does not have valid feature names, but LinearRegression was fitted with feature names\n",
            "  warnings.warn(\n"
          ]
        },
        {
          "output_type": "display_data",
          "data": {
            "text/plain": [
              "<Figure size 640x480 with 1 Axes>"
            ],
            "image/png": "[encoded data removed]"
          },
          "metadata": {}
        }
      ]
    },
    {
      "cell_type": "markdown",
      "source": [
        "Typical regression problems are of example of prediction of\n",
        "- house prices\n",
        "- car prices\n",
        "- exchange rates\n",
        "- the price of shares"
      ],
      "metadata": {
        "id": "Sq5_pgYUZJN6"
      }
    },
    {
      "cell_type": "markdown",
      "source": [
        "Consider a simple linear regression in any machine learning algorithm using an example.\n",
        "\n",
        "-> take a scenario of house prices where our x-axis is the size of the house and y-axis is the price of the house. in this example we have two features\n",
        "- f1: refers to the size of the house\n",
        "- f2: refers to the price of the house\n",
        "\n",
        "if f1 becomas the independent variable, and f2 becomes the depended feature, we know that\n",
        "- when the size of house increases,\n",
        "- the price also increases.\n",
        "\n",
        "given a scatter point, through the scatter point, we try to find the line of best fit which is given as\n",
        "\n",
        "equation: y = A + Bx\n",
        "\n",
        "suppose y is price of the house, and x is the size of the house,\n",
        "\n",
        "price = A + B(size) - where A is an intercept and B is the slope of the intercept"
      ],
      "metadata": {
        "id": "QhwtpwYTiC-z"
      }
    },
    {
      "cell_type": "markdown",
      "source": [
        "Multiple linear regression (MLR) is basically indicating that we will have many features Such as f1, f2, f3, f4, and our output feature f5. if we take teh sample example as above discussed. suppose:\n",
        "- f1 - size of the house\n",
        "- f2 - bad rooms in the house\n",
        "- f3 - locality of the house\n",
        "- f4 - condition of the house\n",
        "- f5 - is our output feature, which is the price of the house\n",
        "\n",
        "now multiple independent features also make a huge impact on the price of the house, meaning that the price can vary from feature to feature.\n",
        "\n",
        "Hence y = A + Bx becomes something like\n",
        "\n",
        "y = A + B1x1 + B2x2 + B3x3 + B4x4\n",
        "\n",
        "if we have one dependent feature and multiple independent features then basically call it a mulitple linear regression.\n",
        "\n",
        "The main aim in using mulitple linear regression is to compute A, which is an intercept. The key parameters B1, B2, B3, and B4 are the slopes of the coefficient concerning this independent feature. This basically indicates that if we increase the value of x1 by 1 unit, then B1 will tell you how mych it will affect the price of the house. B2,B3 and B4 also work similarly."
      ],
      "metadata": {
        "id": "rk61cBccj2i2"
      }
    },
    {
      "cell_type": "markdown",
      "source": [
        "How to train a model for multiple linear regression?\n",
        " - step 1: read the dataset\n",
        " there are 5 columns in the dataset (50 startups) where the state stores the categorical data point, and the rest are numerical features.\n",
        "\n",
        " independent and dependent variables\n",
        " - 5 features in the dataset, of which profit is dependent feature, and rest are independent features.\n",
        "\n",
        " as part of data processing, we have to handle categorical values inside this column. use pandas get_dummies() function:\n",
        "\n",
        " step3: split data - into training and test sets using train_test_split() from scikit-learn\n",
        "\n",
        " step4: applying the models\n"
      ],
      "metadata": {
        "id": "bpgHHD8KnI6x"
      }
    },
    {
      "cell_type": "code",
      "execution_count": null,
      "metadata": {
        "id": "xpONEN15YBPw"
      },
      "outputs": [],
      "source": [
        "# import numpy as\n",
        "# import pandas as pd\n",
        "# # import train_test_split from sklearn\n",
        "# from sklearn.model_selection import train_test_split\n",
        "\n",
        "\n",
        "# dataset = pd.read_csv('50_Startups.csv')\n",
        "# x = dataset.iloc[:, :-1]\n",
        "# y = dataset.iloc[:, 4]\n",
        "\n",
        "# # handle categorical variable\n",
        "# states = pd.get_dummies(x, drop_first=True)\n",
        "# # dropping extra column\n",
        "# x = x.drop('State', axis=1)\n",
        "# # concatenation of independent vairables and a new categorical variable\n",
        "# x = pd.concat([x, states], axis=1)\n",
        "\n",
        "# #spliting data\n",
        "# x_train,x_test,y_train,y_test = train_test_split(x, y, test_size=0.2, random_state=42)\n",
        "# x_train"
      ]
    },
    {
      "cell_type": "code",
      "source": [],
      "metadata": {
        "id": "yBzsUEreq3JT"
      },
      "execution_count": null,
      "outputs": []
    },
    {
      "cell_type": "markdown",
      "source": [],
      "metadata": {
        "id": "oc9ohni8ZIjS"
      }
    }
  ]
}